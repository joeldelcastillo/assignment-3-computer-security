{
 "cells": [
  {
   "cell_type": "code",
   "execution_count": 1,
   "metadata": {},
   "outputs": [],
   "source": [
    "import requests\n",
    "from bs4 import BeautifulSoup\n",
    "s = requests.session()\n"
   ]
  },
  {
   "cell_type": "code",
   "execution_count": 4,
   "metadata": {},
   "outputs": [
    {
     "name": "stdout",
     "output_type": "stream",
     "text": [
      "User-agent: *\n",
      "Disallow: /477ce.html\n",
      "\n"
     ]
    }
   ],
   "source": [
    "resp = s.get('https://jupiter.challenges.picoctf.org/problem/36474/robots.txt')\n",
    "# get the response text.\n",
    "html = resp.text\n",
    "print(html)"
   ]
  },
  {
   "cell_type": "code",
   "execution_count": 5,
   "metadata": {},
   "outputs": [
    {
     "name": "stdout",
     "output_type": "stream",
     "text": [
      "<!doctype html>\n",
      "<html>\n",
      "  <head>\n",
      "    <title>Where are the robots</title>\n",
      "    <link href=\"https://fonts.googleapis.com/css?family=Monoton|Roboto\" rel=\"stylesheet\">\n",
      "    <link rel=\"stylesheet\" type=\"text/css\" href=\"style.css\">\n",
      "  </head>\n",
      "  <body>\n",
      "    <div class=\"container\">\n",
      "      \n",
      "      <div class=\"content\">\n",
      "\t<p>Guess you found the robots<br />\n",
      "\t  <flag>picoCTF{ca1cu1at1ng_Mach1n3s_477ce}</flag></p>\n",
      "      </div>\n",
      "      <footer></footer>\n",
      "  </body>\n",
      "</html>\n",
      "\n"
     ]
    }
   ],
   "source": [
    "resp = s.get('https://jupiter.challenges.picoctf.org/problem/36474/477ce.html')\n",
    "# get the response text.\n",
    "html = resp.text\n",
    "print(html)"
   ]
  }
 ],
 "metadata": {
  "kernelspec": {
   "display_name": "Python 3",
   "language": "python",
   "name": "python3"
  },
  "language_info": {
   "codemirror_mode": {
    "name": "ipython",
    "version": 3
   },
   "file_extension": ".py",
   "mimetype": "text/x-python",
   "name": "python",
   "nbconvert_exporter": "python",
   "pygments_lexer": "ipython3",
   "version": "3.11.3"
  }
 },
 "nbformat": 4,
 "nbformat_minor": 2
}
