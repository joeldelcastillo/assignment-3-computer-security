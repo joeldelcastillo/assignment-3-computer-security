{
 "cells": [
  {
   "cell_type": "markdown",
   "metadata": {},
   "source": [
    "## Javascript from Web Page\n",
    "\n",
    "```js\n",
    "(async()=>{\n",
    "    await new Promise((e=>window.addEventListener(\"load\", e))),\n",
    "    document.querySelector(\"form\").addEventListener(\"submit\", (e=>{\n",
    "        e.preventDefault();\n",
    "        const r = {\n",
    "            u: \"input[name=username]\",\n",
    "            p: \"input[name=password]\"\n",
    "        }\n",
    "          , t = {};\n",
    "        for (const e in r)\n",
    "            t[e] = btoa(document.querySelector(r[e]).value).replace(/=/g, \"\");\n",
    "        return \"YWRtaW4\" !== t.u ? alert(\"Incorrect Username\") : \"cGljb0NURns1M3J2M3JfNTNydjNyXzUzcnYzcl81M3J2M3JfNTNydjNyfQ\" !== t.p ? alert(\"Incorrect Password\") : void alert(`Correct Password! Your flag is ${atob(t.p)}.`)\n",
    "    }\n",
    "    ))\n",
    "}\n",
    ")();\n",
    "\n",
    "```"
   ]
  },
  {
   "cell_type": "code",
   "execution_count": 34,
   "metadata": {},
   "outputs": [],
   "source": [
    "username = b'YWRtaW4' + b'=='\n",
    "password = b'cGljb0NURns1M3J2M3JfNTNydjNyXzUzcnYzcl81M3J2M3JfNTNydjNyfQ'+ b'=='"
   ]
  },
  {
   "cell_type": "code",
   "execution_count": 37,
   "metadata": {},
   "outputs": [
    {
     "name": "stdout",
     "output_type": "stream",
     "text": [
      "b'admin'\n",
      "b'picoCTF{53rv3r_53rv3r_53rv3r_53rv3r_53rv3r}'\n"
     ]
    }
   ],
   "source": [
    "import base64\n",
    "print(base64.b64decode(username))\n",
    "print(base64.b64decode(password))\n"
   ]
  }
 ],
 "metadata": {
  "kernelspec": {
   "display_name": "Python 3",
   "language": "python",
   "name": "python3"
  },
  "language_info": {
   "codemirror_mode": {
    "name": "ipython",
    "version": 3
   },
   "file_extension": ".py",
   "mimetype": "text/x-python",
   "name": "python",
   "nbconvert_exporter": "python",
   "pygments_lexer": "ipython3",
   "version": "3.11.3"
  }
 },
 "nbformat": 4,
 "nbformat_minor": 2
}
